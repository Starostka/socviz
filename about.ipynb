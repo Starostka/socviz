{
  "cells": [
    {
      "cell_type": "markdown",
      "metadata": {},
      "source": [
        "# About\n",
        "\n",
        "A work in progress\n",
        "\n",
        "Xinyi Liu  \n",
        "Benjamin Starostka  \n",
        "5/8/23\n",
        "\n",
        "Work presented on this side is done as part of the Social Data &\n",
        "Visualization course thaught at the Technical University of Denmark\n",
        "(DTU).\n",
        "\n",
        "Here we present our findings in the investigation of crime activities in\n",
        "various police districts in San Francisco.\n",
        "\n",
        "Next we present our findings in our investigation into forecast data for\n",
        "Melbourne."
      ],
      "id": "17caff56-4234-42cb-ba35-e1dd46cc0a0f"
    }
  ],
  "nbformat": 4,
  "nbformat_minor": 5,
  "metadata": {
    "kernelspec": {
      "display_name": "Python 3",
      "language": "python",
      "name": "python3"
    }
  }
}