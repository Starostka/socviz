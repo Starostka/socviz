{
  "cells": [
    {
      "cell_type": "markdown",
      "metadata": {},
      "source": [
        "# Home\n",
        "\n",
        "A work in progress\n",
        "\n",
        "Xinyi Liu  \n",
        "Benjamin Starostka  \n",
        "5/8/23"
      ],
      "id": "e822aa07-c089-415b-971e-c788f3ba1f9e"
    }
  ],
  "nbformat": 4,
  "nbformat_minor": 5,
  "metadata": {
    "kernelspec": {
      "display_name": "Python 3",
      "language": "python",
      "name": "python3"
    }
  }
}