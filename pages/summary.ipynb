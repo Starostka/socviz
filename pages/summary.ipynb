{
  "cells": [
    {
      "cell_type": "markdown",
      "metadata": {},
      "source": [
        "# Summary\n",
        "\n",
        "Final project \\| Summary\n",
        "\n",
        "Xinyi Liu  \n",
        "Benjamin Starostka\n",
        "\n",
        "# Short reflection on the project\n",
        "\n",
        "Overall we think the project went well and exciting to work on. It was\n",
        "also very interdisciplinary which we’ve liked considering that the site\n",
        "had to be set up but also the analytics and a meaningful story conveying\n",
        "it.\n",
        "\n",
        "With more time we would like to work more on the actual styling of the\n",
        "site, try out some other fonts and edit the colorscheme with some pastel\n",
        "colors perhaps. We would also like to dive deeper into the\n",
        "visualizations and ensure a more consistent style across the site.\n",
        "\n",
        "# Contributions\n",
        "\n",
        "Xinyi and Benjamin have helped eachother through most of the work but in\n",
        "particular Benjamin has been responsible for the site and the jobs\n",
        "section while Xinyi took the lead for the population and residential\n",
        "aspects of the project."
      ],
      "id": "aef36113-0fa3-4a7d-9279-ab9cc8346394"
    }
  ],
  "nbformat": 4,
  "nbformat_minor": 5,
  "metadata": {
    "kernelspec": {
      "display_name": "Python 3",
      "language": "python",
      "name": "python3"
    }
  }
}