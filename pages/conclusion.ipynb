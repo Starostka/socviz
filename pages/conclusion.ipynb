{
  "cells": [
    {
      "cell_type": "markdown",
      "metadata": {},
      "source": [
        "# Summary\n",
        "\n",
        "Final project \\| Summary\n",
        "\n",
        "Xinyi Liu  \n",
        "Benjamin Starostka  \n",
        "5/12/23"
      ],
      "id": "d55b16ce-0f32-43d3-97cc-6d86ac2a020a"
    },
    {
      "cell_type": "raw",
      "metadata": {
        "raw_mimetype": "text/html"
      },
      "source": [
        "<!-- > 6. Discussion. Think critically about your creation\n",
        "> What went well?,\n",
        "> What is still missing? What could be improved?, Why? -->"
      ],
      "id": "5042df70-2c9a-4087-86ca-656e3f26b3c0"
    },
    {
      "cell_type": "raw",
      "metadata": {
        "raw_mimetype": "text/html"
      },
      "source": [
        "<!-- > 7. Contributions. Who did what?\n",
        "> You should write (just briefly) which group member was the main responsible for which elements of the assignment. (I want you guys to understand every part of the assignment, but usually there is someone who took lead role on certain portions of the work. That's what you should explain).\n",
        "> It is not OK simply to write \"All group members contributed equally\". -->"
      ],
      "id": "2e0cdf31-4cf6-4a8b-873b-855537c54641"
    }
  ],
  "nbformat": 4,
  "nbformat_minor": 5,
  "metadata": {
    "kernelspec": {
      "display_name": "Python 3",
      "language": "python",
      "name": "python3"
    }
  }
}