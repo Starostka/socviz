{
  "cells": [
    {
      "cell_type": "markdown",
      "metadata": {},
      "source": [
        "# Summary\n",
        "\n",
        "Final project \\| Summary\n",
        "\n",
        "Xinyi Liu  \n",
        "Benjamin Starostka  \n",
        "5/13/23"
      ],
      "id": "d374f1e1-c87b-40b3-8246-6793057a9693"
    },
    {
      "cell_type": "raw",
      "metadata": {
        "raw_mimetype": "text/html"
      },
      "source": [
        "<!-- > 6. Discussion. Think critically about your creation\n",
        "> What went well?,\n",
        "> What is still missing? What could be improved?, Why? -->"
      ],
      "id": "f8fd0a9d-a0c2-4022-b91c-dd5bba03349b"
    },
    {
      "cell_type": "raw",
      "metadata": {
        "raw_mimetype": "text/html"
      },
      "source": [
        "<!-- > 7. Contributions. Who did what?\n",
        "> You should write (just briefly) which group member was the main responsible for which elements of the assignment. (I want you guys to understand every part of the assignment, but usually there is someone who took lead role on certain portions of the work. That's what you should explain).\n",
        "> It is not OK simply to write \"All group members contributed equally\". -->"
      ],
      "id": "842f03f9-4558-4858-b62d-a470f553f632"
    }
  ],
  "nbformat": 4,
  "nbformat_minor": 5,
  "metadata": {
    "kernelspec": {
      "display_name": "Python 3",
      "language": "python",
      "name": "python3"
    }
  }
}