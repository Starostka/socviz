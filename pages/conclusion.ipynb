{
  "cells": [
    {
      "cell_type": "markdown",
      "metadata": {},
      "source": [
        "# Summary\n",
        "\n",
        "Final project \\| Summary\n",
        "\n",
        "Xinyi Liu  \n",
        "Benjamin Starostka"
      ],
      "id": "42e5e19e-10b6-4034-a6e2-174f1fcf42ea"
    },
    {
      "cell_type": "raw",
      "metadata": {
        "raw_mimetype": "text/html"
      },
      "source": [
        "<!-- > 6. Discussion. Think critically about your creation\n",
        "> What went well?,\n",
        "> What is still missing? What could be improved?, Why? -->"
      ],
      "id": "df4ab9a5-8164-4779-b7c1-e882a6690daf"
    },
    {
      "cell_type": "raw",
      "metadata": {
        "raw_mimetype": "text/html"
      },
      "source": [
        "<!-- > 7. Contributions. Who did what?\n",
        "> You should write (just briefly) which group member was the main responsible for which elements of the assignment. (I want you guys to understand every part of the assignment, but usually there is someone who took lead role on certain portions of the work. That's what you should explain).\n",
        "> It is not OK simply to write \"All group members contributed equally\". -->"
      ],
      "id": "93e892e0-1ee1-4f04-a1be-897117083bf0"
    }
  ],
  "nbformat": 4,
  "nbformat_minor": 5,
  "metadata": {
    "kernelspec": {
      "display_name": "Python 3",
      "language": "python",
      "name": "python3"
    }
  }
}