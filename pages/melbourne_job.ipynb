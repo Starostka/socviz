{
  "cells": [
    {
      "cell_type": "markdown",
      "metadata": {},
      "source": [
        "# Employment and Jobs\n",
        "\n",
        "Final project \\| Job Market forecasting\n",
        "\n",
        "Xinyi Liu  \n",
        "Benjamin Starostka  \n",
        "5/12/23\n",
        "\n",
        "# Introduction\n",
        "\n",
        "We’ve investigated how jobs are distributed across industry types and\n",
        "their focasted rate of change in different areas of Melbourne. Melbourne\n",
        "at the time of writing supports 527,738 jobs and an annual economic\n",
        "output of \\$215.213 billion according to\n",
        "[remplan](https://app.remplan.com.au/melbourne-lga/economy/industries/wages-salaries?state=5wPkHA!AgXqf4O0phWmZ56h254YDTmTaIDlbFG1615cqNXNys4Ie0uGINhPPdKf24x).\n",
        "\n",
        "Key findings:\n",
        "\n",
        "-   Industries in finance, health and education are among the top\n",
        "    ranking when it comes to future jobs\n",
        "-   Parkville and South Yarra suburbs is expected to have the most jobs\n",
        "    in restaurants, entertainment, small jobs etc.\n",
        "-   Bigger financial firms and industries such as financial institutino,\n",
        "    health and education happens closest to the CBD\n",
        "\n",
        "From the data we have available the suburbs considered are Carlton,\n",
        "Parkville, Kensington and Sout Yarra. They are all scattered around the\n",
        "Melbourne central business district (CBD).\n",
        "\n",
        "# Jobs and employments\n",
        "\n",
        "In the coming years the city of Melbourne is expected to see a steady\n",
        "and substantial increase in the jobs available across different\n",
        "industries. <!-- ```python\n",
        "data = (jobs_industry\n",
        "        .filter(pl.col('Industry Space Use') == 'Total jobs')\n",
        "        .sort('Year')\n",
        "        .groupby('Geography').agg([pl.col('Year'), pl.col('Value')]))\n",
        "viz = VizData(title=\"Total jobs forecast, City of Melbourne\", ylabel=\"Total jobs\", xlabel=\"Year\", df=data)\n",
        "plt.bar(data['Year'], data['Value'])\n",
        "#plt.plot(data['Year'], data['Value'])\n",
        "plt.title(viz.title)\n",
        "plt.ylabel(viz.ylabel)\n",
        "plt.xlabel(viz.xlabel)\n",
        "plt.show()\n",
        "``` -->\n",
        "\n",
        "We can quickly inspect what areas and industries have the steadiest\n",
        "trend in the jobs forecast from the mean value."
      ],
      "id": "0aca4737-d8ee-41c4-b6e7-567fc02aa5db"
    },
    {
      "cell_type": "code",
      "execution_count": 2,
      "metadata": {},
      "outputs": [
        {
          "output_type": "display_data",
          "metadata": {},
          "data": {
            "text/html": [
              "<style>.itables table td {\n",
              "    text-overflow: ellipsis;\n",
              "    overflow: hidden;\n",
              "}\n",
              "\n",
              ".itables table th {\n",
              "    text-overflow: ellipsis;\n",
              "    overflow: hidden;\n",
              "}\n",
              "\n",
              ".itables thead input {\n",
              "    width: 100%;\n",
              "    padding: 3px;\n",
              "    box-sizing: border-box;\n",
              "}\n",
              "\n",
              ".itables tfoot input {\n",
              "    width: 100%;\n",
              "    padding: 3px;\n",
              "    box-sizing: border-box;\n",
              "}\n",
              "</style>\n",
              "<div class=\"itables\">\n",
              "<table id=\"3f046316-1cc2-49d2-885f-1f8f6016009a\" class=\"display nowrap\"style=\"table-layout:auto;width:auto;margin:auto;caption-side:bottom\"><thead>\n",
              "    <tr style=\"text-align: right;\">\n",
              "      \n",
              "      <th>Geography</th>\n",
              "      <th>Industry Space Use</th>\n",
              "      <th>Value</th>\n",
              "    </tr>\n",
              "  </thead><tbody><tr><td>Loading... (need <a href=https://mwouts.github.io/itables/troubleshooting.html>help</a>?)</td></tr></tbody></table>\n",
              "<link rel=\"stylesheet\" type=\"text/css\" href=\"https://cdn.datatables.net/1.13.1/css/jquery.dataTables.min.css\">\n",
              "<script type=\"module\">\n",
              "    // Import jquery and DataTable\n",
              "    import 'https://code.jquery.com/jquery-3.6.0.min.js';\n",
              "    import dt from 'https://cdn.datatables.net/1.12.1/js/jquery.dataTables.mjs';\n",
              "    dt($);\n",
              "\n",
              "    // Define the table data\n",
              "    const data = [[\"City of Melbourne\", \"Total jobs\", 568257.8571428572], [\"Melbourne (CBD)\", \"Total jobs\", 260748.90476190476], [\"City of Melbourne\", \"Business services\", 103419.57142857143], [\"Docklands\", \"Total jobs\", 84301.14285714286], [\"City of Melbourne\", \"Finance and insurance\", 73486.90476190476], [\"City of Melbourne\", \"Health care and social assistance\", 61941.52380952381], [\"Melbourne (CBD)\", \"Business services\", 60077.619047619046], [\"Southbank\", \"Total jobs\", 52588.666666666664]];\n",
              "\n",
              "    // Define the dt_args\n",
              "    let dt_args = {\"order\": [], \"dom\": \"t\"};\n",
              "    dt_args[\"data\"] = data;\n",
              "\n",
              "    $(document).ready(function () {\n",
              "        \n",
              "        $('#3f046316-1cc2-49d2-885f-1f8f6016009a').DataTable(dt_args);\n",
              "    });\n",
              "</script>\n",
              "</div>"
            ]
          }
        }
      ],
      "source": [
        "grouped = jobs_industry.groupby(['Geography', 'Industry Space Use'], maintain_order=True).agg([pl.col('Value').mean()]).sort('Value', descending=True).limit(8)\n",
        "show(grouped)"
      ],
      "id": "febb3357-3f66-4452-a179-c5b44c2766da"
    },
    {
      "cell_type": "markdown",
      "metadata": {},
      "source": [
        "Historically considering data from 2016 and 2021 employment in the space\n",
        "of (Professional, Scientific and Technical Services) and (Financial and\n",
        "Insurance Services)."
      ],
      "id": "b05e139a-d59e-4ebb-8ef3-5c01377dda81"
    },
    {
      "cell_type": "code",
      "execution_count": 3,
      "metadata": {},
      "outputs": [
        {
          "output_type": "display_data",
          "metadata": {},
          "data": {
            "text/html": [
              "<style>.itables table td {\n",
              "    text-overflow: ellipsis;\n",
              "    overflow: hidden;\n",
              "}\n",
              "\n",
              ".itables table th {\n",
              "    text-overflow: ellipsis;\n",
              "    overflow: hidden;\n",
              "}\n",
              "\n",
              ".itables thead input {\n",
              "    width: 100%;\n",
              "    padding: 3px;\n",
              "    box-sizing: border-box;\n",
              "}\n",
              "\n",
              ".itables tfoot input {\n",
              "    width: 100%;\n",
              "    padding: 3px;\n",
              "    box-sizing: border-box;\n",
              "}\n",
              "</style>\n",
              "<div class=\"itables\">\n",
              "<table id=\"98720ba5-6b86-48fe-bef2-e86d6e7fe03c\" class=\"display nowrap\"style=\"table-layout:auto;width:auto;margin:auto;caption-side:bottom\"><thead>\n",
              "    <tr style=\"text-align: right;\">\n",
              "      \n",
              "      <th>Options</th>\n",
              "      <th>2016</th>\n",
              "      <th>2021</th>\n",
              "    </tr>\n",
              "  </thead><tbody><tr><td>Loading... (need <a href=https://mwouts.github.io/itables/troubleshooting.html>help</a>?)</td></tr></tbody></table>\n",
              "<link rel=\"stylesheet\" type=\"text/css\" href=\"https://cdn.datatables.net/1.13.1/css/jquery.dataTables.min.css\">\n",
              "<script type=\"module\">\n",
              "    // Import jquery and DataTable\n",
              "    import 'https://code.jquery.com/jquery-3.6.0.min.js';\n",
              "    import dt from 'https://cdn.datatables.net/1.12.1/js/jquery.dataTables.mjs';\n",
              "    dt($);\n",
              "\n",
              "    // Define the table data\n",
              "    const data = [[\"Agriculture, Forestry and Fishing\", 697.0, 678.0], [\"Mining\", 1.836, 1.095], [\"Manufacturing\", 11.76, 12.023], [\"Electricity, Gas, Water and Waste Services\", 9.25, 10.625], [\"Construction\", 17.588, 23.37], [\"Wholesale Trade\", 7.386, 7.122], [\"Retail Trade\", 20.434, 19.043], [\"Accommodation and Food Services\", 31.239, 25.607], [\"Transport, Postal and Warehousing\", 17.982, 20.0], [\"Information Media and Telecommunications\", 25.91, 21.586], [\"Financial and Insurance Services\", 63.483, 82.797], [\"Rental, Hiring and Real Estate Services\", 8.518, 8.8], [\"Professional, Scientific and Technical Services\", 83.503, 107.964], [\"Administrative and Support Services\", 20.389, 21.207], [\"Public Administration and Safety\", 44.532, 59.73], [\"Education and Training\", 29.854, 32.33], [\"Health Care and Social Assistance\", 35.852, 46.616], [\"Arts and Recreation Services\", 17.45, 16.463], [\"Other Services\", 9.802, 10.682]];\n",
              "\n",
              "    // Define the dt_args\n",
              "    let dt_args = {\"order\": []};\n",
              "    dt_args[\"data\"] = data;\n",
              "\n",
              "    $(document).ready(function () {\n",
              "        \n",
              "        $('#98720ba5-6b86-48fe-bef2-e86d6e7fe03c').DataTable(dt_args);\n",
              "    });\n",
              "</script>\n",
              "</div>"
            ]
          }
        }
      ],
      "source": [
        "# src: https://app.remplan.com.au/melbourne-lga/economy/trends/jobs?state=GLZrFN!az4VClkNKSYeGD6Uvqea6f0c4I6ZouPIWIKJhGI8hxx7AUwzL\n",
        "jobs_historic = pl.read_csv('../data/melbourne-jobs-historically.csv', separator=';')\n",
        "jobs_historic.schema\n",
        "jobs_historic.sort('2021', descending=True)\n",
        "show(jobs_historic) # lengthMenu=[2, 5, 10, 25, 50, 100, 250]"
      ],
      "id": "87e89e0a-2378-4c89-ae23-70813f23c913"
    },
    {
      "cell_type": "markdown",
      "metadata": {},
      "source": [
        "Have had the largest job capacity which again is reinforced by the\n",
        "forecast where we see an increase of jobs for these industries.\n",
        "\n",
        "Overall Melbourne is considered a modern society that has the resources\n",
        "and ability to priotise education and economical growth. This is also\n",
        "reflected in the Gross Regional Product for the region which\n",
        "historically has also seen a continous growth.\n",
        "\n",
        "If we aggrate the yearly job forecasts we see the following industries\n",
        "holds the lead for future jobs."
      ],
      "id": "85c29ae4-6e56-4fc7-9e8a-698b31b39564"
    },
    {
      "cell_type": "code",
      "execution_count": 4,
      "metadata": {},
      "outputs": [],
      "source": [
        "# Business services                 ┆ 4343624 │\n",
        "# Finance and insurance             ┆ 3086449 │\n",
        "# Health care and social assistanc… ┆ 2601547 │\n",
        "# Public administration and safety  ┆ 2202208 │\n",
        "# Food and beverage services        ┆ 1898525 │\n",
        "# Education and training            ┆ 1501266 │"
      ],
      "id": "c53e254b-1249-4531-8606-91d434284d68"
    },
    {
      "cell_type": "markdown",
      "metadata": {},
      "source": [
        "So we can rank the different areas with respect to health, finance and\n",
        "education respectively starting with a bounded forecast up until 2025."
      ],
      "id": "0018d425-1f4a-443f-a9b1-2fab8188235b"
    },
    {
      "cell_type": "code",
      "execution_count": 5,
      "metadata": {},
      "outputs": [
        {
          "output_type": "display_data",
          "metadata": {},
          "data": {
            "text/html": [
              "<div><style>\n",
              ".dataframe > thead > tr > th,\n",
              ".dataframe > tbody > tr > td {\n",
              "  text-align: right;\n",
              "}\n",
              "</style>\n",
              "<small>shape: (3, 6)</small><table border=\"1\" class=\"dataframe\"><thead><tr><th>Geography</th><th>Year</th><th>Category</th><th>Industry Space Use</th><th>Value</th><th>Rank</th></tr><tr><td>str</td><td>i64</td><td>str</td><td>str</td><td>i64</td><td>f32</td></tr></thead><tbody><tr><td>&quot;City of Melbou…</td><td>2025</td><td>&quot;Jobs by indust…</td><td>&quot;Education and …</td><td>28003</td><td>70.0</td></tr><tr><td>&quot;City of Melbou…</td><td>2024</td><td>&quot;Jobs by indust…</td><td>&quot;Education and …</td><td>26928</td><td>69.0</td></tr><tr><td>&quot;City of Melbou…</td><td>2023</td><td>&quot;Jobs by indust…</td><td>&quot;Education and …</td><td>26031</td><td>68.0</td></tr></tbody></table></div>"
            ]
          }
        }
      ],
      "source": [
        "jobs_industry.filter(pl.col('Industry Space Use') == 'Finance and insurance').filter(pl.col('Year') <= 2025).with_columns(pl.col('Value').rank('min').alias('Rank')).sort('Rank', descending=True)\n",
        "jobs_industry.filter(pl.col('Industry Space Use') == 'Health care and social assistance').filter(pl.col('Year') <= 2025).with_columns(pl.col('Value').rank().alias('Rank')).sort('Rank', descending=True)\n",
        "jobs_industry.filter(pl.col('Industry Space Use') == 'Education and training').filter(pl.col('Year') <= 2025).with_columns(pl.col('Value').rank().alias('Rank')).sort('Rank', descending=True).limit(3)"
      ],
      "id": "77665529-7f94-4dcb-aab7-72a91708d84e"
    },
    {
      "cell_type": "markdown",
      "metadata": {},
      "source": [
        "The job forecast shows that the suburbs of South Yarra and Parkville\n",
        "have little traction for the before mentioned industries as they mainly\n",
        "consist of businesses such as restaurants and cafés. South Yarra has a\n",
        "[history](https://en.wikipedia.org/wiki/South_Yarra) of being and\n",
        "attractive to live in with good proximity to CBD, schools,\n",
        "transportations and open lush parks and spaces.\n",
        "\n",
        "Next we will how they stand with a loose bound towards 2035, a change in\n",
        "10 years."
      ],
      "id": "cbfcb0dc-0f04-4d3e-8adb-667377587eaf"
    },
    {
      "cell_type": "code",
      "execution_count": 6,
      "metadata": {},
      "outputs": [
        {
          "output_type": "display_data",
          "metadata": {},
          "data": {
            "text/html": [
              "<div><style>\n",
              ".dataframe > thead > tr > th,\n",
              ".dataframe > tbody > tr > td {\n",
              "  text-align: right;\n",
              "}\n",
              "</style>\n",
              "<small>shape: (3, 6)</small><table border=\"1\" class=\"dataframe\"><thead><tr><th>Geography</th><th>Year</th><th>Category</th><th>Industry Space Use</th><th>Value</th><th>Rank</th></tr><tr><td>str</td><td>i64</td><td>str</td><td>str</td><td>i64</td><td>f32</td></tr></thead><tbody><tr><td>&quot;City of Melbou…</td><td>2035</td><td>&quot;Jobs by indust…</td><td>&quot;Education and …</td><td>41386</td><td>210.0</td></tr><tr><td>&quot;City of Melbou…</td><td>2034</td><td>&quot;Jobs by indust…</td><td>&quot;Education and …</td><td>40147</td><td>209.0</td></tr><tr><td>&quot;City of Melbou…</td><td>2033</td><td>&quot;Jobs by indust…</td><td>&quot;Education and …</td><td>38916</td><td>208.0</td></tr></tbody></table></div>"
            ]
          }
        }
      ],
      "source": [
        "jobs_industry.filter(pl.col('Industry Space Use') == 'Finance and insurance').filter(pl.col('Year') <= 2035).with_columns(pl.col('Value').rank('min').alias('Rank')).sort('Rank', descending=True)\n",
        "jobs_industry.filter(pl.col('Industry Space Use') == 'Health care and social assistance').filter(pl.col('Year') <= 2035).with_columns(pl.col('Value').rank().alias('Rank')).sort('Rank', descending=True)\n",
        "jobs_industry.filter(pl.col('Industry Space Use') == 'Education and training').filter(pl.col('Year') <= 2035).with_columns(pl.col('Value').rank().alias('Rank')).sort('Rank', descending=True).limit(3)"
      ],
      "id": "5b89cdfa-3bd3-4064-9b05-8a4b94d4c5a1"
    },
    {
      "cell_type": "markdown",
      "metadata": {},
      "source": [
        "As we can see the CBD of Melbourne is expected to see a huge increase\n",
        "the coming years with in jobs more specifically for finance and\n",
        "insurance.\n",
        "\n",
        "In terms of jobs in health care and social assistance services the\n",
        "Parkville suburb will see a big incease.\n",
        "\n",
        "Parkville houses one of Australia’s top hospitals both in its\n",
        "specializations but also as a teaching hospital. And since the general\n",
        "trend seems to favour more education this is likely to be correlated.\n",
        "\n",
        "Finance and insurance industries suffer the most in terms of comign\n",
        "jobs. The last couple of years have seen an increase in automation and\n",
        "so called “smart banks” for finances. This has led to an increase in\n",
        "fintech institutions and more specific work force required often from\n",
        "people with a higher level of education.\n",
        "\n",
        "-   TODO: Are there any industries that faces negative job changes?\n",
        "-   TODO: Are there any employment disparities across regions?\n",
        "\n",
        "## Floor space use\n",
        "\n",
        "## Historic validation\n",
        "\n",
        "> WIP\n",
        "\n",
        "-   TODO: Validate forecast analysis by comparing with historical data.\n",
        "-   TODO: Validation by historic data is important to assess the\n",
        "    accuracy and reliability of the forecasts. Else our claims are hard\n",
        "    to trust.\n",
        "\n",
        "It is also located right next to Toorak which is famous for its luxury\n",
        "residence and entreprenurs living there\n",
        "(https://en.wikipedia.org/wiki/Toorak,\\_Victoria)."
      ],
      "id": "d894f1cf-03df-4290-90b1-9789018deadc"
    }
  ],
  "nbformat": 4,
  "nbformat_minor": 5,
  "metadata": {
    "kernelspec": {
      "name": "python3",
      "display_name": "Python 3 (ipykernel)",
      "language": "python"
    },
    "language_info": {
      "name": "python",
      "codemirror_mode": {
        "name": "ipython",
        "version": "3"
      },
      "file_extension": ".py",
      "mimetype": "text/x-python",
      "nbconvert_exporter": "python",
      "pygments_lexer": "ipython3",
      "version": "3.10.10"
    }
  }
}