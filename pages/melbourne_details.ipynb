{
  "cells": [
    {
      "cell_type": "markdown",
      "metadata": {},
      "source": [
        "# Data Details\n",
        "\n",
        "Data sources and summary statistics\n",
        "\n",
        "Xinyi Liu  \n",
        "Benjamin Starostka  \n",
        "5/9/23\n",
        "\n",
        "# Details about the Melbourne forecast data\n",
        "\n",
        "> The data used is available at [City of Melbourne open data\n",
        "> portal](https://data.melbourne.vic.gov.au/explore/?sort=modified&q=forecast)\n",
        "\n",
        "Here’s a brief summary for each of the datasets used for this\n",
        "project. 1. [City of Melbourne Jobs Forecasts by Small Area\n",
        "2021-2041](https://data.melbourne.vic.gov.au/explore/dataset/city-of-melbourne-jobs-forecasts-by-small-area-2020-2040/information/)\n",
        "\\* 585 KB, 9114 rows, 5 cols, geodata: area name, age and gender 3.\n",
        "[City of Melbourne Population Forecasts by Small Area\n",
        "2021-2041](https://data.melbourne.vic.gov.au/explore/dataset/city-of-melbourne-population-forecasts-by-small-area-2020-2040/information/)\n",
        "\\* 710 KB, 17052 rows, 5 cols, geodata: area name 5. [City of Melbourne\n",
        "Dwellings and Household Forecasts by Small Area\n",
        "2021-2041](https://data.melbourne.vic.gov.au/explore/dataset/city-of-melbourne-dwellings-and-household-forecasts-by-small-area-2020-2040/information/)\n",
        "\\* 161 KB, 2646 rows, 5 cols, geodata: area name 7. [City of Melbourne\n",
        "Floor Space Forecasts by Small Area\n",
        "2021-2041](https://data.melbourne.vic.gov.au/explore/dataset/city-of-melbourne-floor-space-forecasts-by-small-area-2020-2040/information/)\n",
        "\\* 834 KB, 9996 rows, 5 cols, geodata: area name 9. [Development\n",
        "Activity\n",
        "Monitor](https://data.melbourne.vic.gov.au/explore/dataset/development-activity-monitor/information/)\n",
        "\\* 328 KB, 1430 rows, 42 cols, geodata: yes"
      ],
      "id": "0dc11c8b-1d59-4975-9a45-3f41564b0fcc"
    }
  ],
  "nbformat": 4,
  "nbformat_minor": 5,
  "metadata": {
    "kernelspec": {
      "display_name": "Python 3",
      "language": "python",
      "name": "python3"
    }
  }
}