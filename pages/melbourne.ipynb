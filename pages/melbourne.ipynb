{
  "cells": [
    {
      "cell_type": "markdown",
      "metadata": {},
      "source": [
        "# Introduction\n",
        "\n",
        "Final project \\| Melbourne City Data \\| Forecasting\n",
        "\n",
        "Xinyi Liu  \n",
        "Benjamin Starostka  \n",
        "5/13/23"
      ],
      "id": "494f40db-7fd3-4125-b7e6-4494f6d45ae4"
    },
    {
      "cell_type": "code",
      "execution_count": 1,
      "metadata": {},
      "outputs": [],
      "source": [
        "import polars as pl\n",
        "import pandas as pd\n",
        "import numpy as np\n",
        "import matplotlib.pyplot as plt\n",
        "import matplotx\n",
        "\n",
        "plt.style.use(matplotx.styles.dufte)"
      ],
      "id": "e1955e29-bb6a-43ab-92c1-e98059a0b07b"
    },
    {
      "cell_type": "markdown",
      "metadata": {},
      "source": [
        "# About Melbourne\n",
        "\n",
        "Melbourne holds the distinction of being the second most populous city\n",
        "in both Australia and Oceania. As the center of south Australia,\n",
        "Melbourne is a sprawling urban area spanning 9,992 km2, which\n",
        "encompasses a metropolitan region comprising 31 municipalities ([Source:\n",
        "Wikipedia](https://www.wikipedia.org/)). It has a population of 5\n",
        "million, which takes up 19% of the population of Australia.\n",
        "\n",
        "The initiative of this narrative data story is to provide you with an\n",
        "opportunity to delve into Melbourne’s city life through various data\n",
        "sets, including demographics, residential information, and employment\n",
        "data. By examining these aspects, you can see the potential\n",
        "opportunities in the city. Furthermore, we want to show the pictures of\n",
        "the future for Melbourne by applying the city’s forecasts data, and\n",
        "provide you with the insights of the city’s future development.\n",
        "\n",
        "> The data used is available at [City of Melbourne open data\n",
        "> portal](https://data.melbourne.vic.gov.au/explore/?sort=modified&q=forecast)\n",
        "\n",
        "Here’s a brief summary for each of the datasets used for this project.\n",
        "\n",
        "1.  [City of Melbourne Jobs Forecasts by Small Area\n",
        "    2021-2041](https://data.melbourne.vic.gov.au/explore/dataset/city-of-melbourne-jobs-forecasts-by-small-area-2020-2040/information/)\n",
        "    -   585 KB, 9114 rows, 5 cols, geodata: area name, age and gender\n",
        "2.  [City of Melbourne Population Forecasts by Small Area\n",
        "    2021-2041](https://data.melbourne.vic.gov.au/explore/dataset/city-of-melbourne-population-forecasts-by-small-area-2020-2040/information/)\n",
        "    -   710 KB, 17052 rows, 5 cols, geodata: area name\n",
        "3.  [City of Melbourne Dwellings and Household Forecasts by Small Area\n",
        "    2021-2041](https://data.melbourne.vic.gov.au/explore/dataset/city-of-melbourne-dwellings-and-household-forecasts-by-small-area-2020-2040/information/)\n",
        "    -   161 KB, 2646 rows, 5 cols, geodata: area name\n",
        "4.  [City of Melbourne Floor Space Forecasts by Small Area\n",
        "    2021-2041](https://data.melbourne.vic.gov.au/explore/dataset/city-of-melbourne-floor-space-forecasts-by-small-area-2020-2040/information/)\n",
        "    -   834 KB, 9996 rows, 5 cols, geodata: area name\n",
        "5.  [Development Activity\n",
        "    Monitor](https://data.melbourne.vic.gov.au/explore/dataset/development-activity-monitor/information/)\n",
        "    -   328 KB, 1430 rows, 42 cols, geodata: yes"
      ],
      "id": "8ba596ed-9c58-4d51-b0aa-bf4e0e790489"
    }
  ],
  "nbformat": 4,
  "nbformat_minor": 5,
  "metadata": {
    "kernelspec": {
      "name": "python3",
      "display_name": "Python 3 (ipykernel)",
      "language": "python"
    },
    "language_info": {
      "name": "python",
      "codemirror_mode": {
        "name": "ipython",
        "version": "3"
      },
      "file_extension": ".py",
      "mimetype": "text/x-python",
      "nbconvert_exporter": "python",
      "pygments_lexer": "ipython3",
      "version": "3.10.10"
    }
  }
}