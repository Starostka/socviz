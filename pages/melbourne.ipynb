{
  "cells": [
    {
      "cell_type": "markdown",
      "metadata": {},
      "source": [
        "# Analysis and Visualization\n",
        "\n",
        "Final project \\| forecasting\n",
        "\n",
        "Xinyi Liu  \n",
        "Benjamin Starostka  \n",
        "5/9/23"
      ],
      "id": "2f0092c5-9bd9-4e20-a976-8352a415641c"
    },
    {
      "cell_type": "code",
      "execution_count": 1,
      "metadata": {},
      "outputs": [],
      "source": [
        "import polars as pl\n",
        "import pandas as pd\n",
        "import numpy as np\n",
        "import matplotlib.pyplot as plt\n",
        "import matplotx\n",
        "\n",
        "plt.style.use(matplotx.styles.dufte)"
      ],
      "id": "f003fa4f-b7eb-4c15-aad4-a168834a3ac1"
    },
    {
      "cell_type": "markdown",
      "metadata": {},
      "source": [
        "# About Melbourne\n",
        "\n",
        "> WIP\n",
        "\n",
        "-   TODO: Give a nice concise introduction to the city of Melbourne\n",
        "-   TODO: Briefly state what’s the intention of our investigation\n",
        "-   TODO: Include a nice picture of Melbourne\n",
        "\n",
        "# Investigation & analysis\n",
        "\n",
        "## Population\n",
        "\n",
        "> WIP\n",
        "\n",
        "## Residentials\n",
        "\n",
        "> WIP\n",
        "\n",
        "## Jobs and employments\n",
        "\n",
        "> WIP\n",
        "\n",
        "-   TODO: Forecasted employment rates/job growth based on geographical\n",
        "    location\n",
        "-   TODO: Comparison of job categories\n",
        "-   TODO: Simple correlation analysis between forecast types\n",
        "-   TODO: Employment disparities across regions\n",
        "\n",
        "## Historic validation\n",
        "\n",
        "> WIP\n",
        "\n",
        "-   TODO: Validate forecast analysis by comparing with historical data.\n",
        "-   TODO: Validation by historic data is important to assess the\n",
        "    accuracy and reliability of the forecasts. Else our claims are hard\n",
        "    to trust.\n",
        "\n",
        "# Conclusion and takeaways\n",
        "\n",
        "> WIP\n",
        "\n",
        "# Additional resources\n",
        "\n",
        "> WIP\n",
        "\n",
        "# Contact and feedback\n",
        "\n",
        "> WIP"
      ],
      "id": "12798bd3-957d-480a-ba88-ea9e94235254"
    },
    {
      "cell_type": "raw",
      "metadata": {
        "raw_mimetype": "text/html"
      },
      "source": [
        "<!--\n",
        "> 1. Motivation.\n",
        "> What is your dataset?\n",
        "> Why did you choose this/these particular dataset(s)?\n",
        "> What was your goal for the end user's experience?\n",
        "\n",
        "> 2. Basic stats. Let's understand the dataset better\n",
        "> Write about your choices in data cleaning and preprocessing\n",
        "> Write a short section that discusses the dataset stats, containing key points/plots from your exploratory data analysis.\n",
        "\n",
        "> 3. Data Analysis\n",
        "> Describe your data analysis and explain what you've learned about the dataset.\n",
        "> If relevant, talk about your machine-learning.\n",
        "\n",
        "> 4. Genre. Which genre of data story did you use?\n",
        "> Which tools did you use from each of the 3 categories of Visual Narrative (Figure 7 in Segal and Heer). Why?\n",
        "> Which tools did you use from each of the 3 categories of Narrative Structure (Figure 7 in Segal and Heer). Why?\n",
        "\n",
        "> 5. Visualizations.\n",
        "> Explain the visualizations you've chosen.\n",
        "> Why are they right for the story you want to tell?\n",
        "\n",
        "> 6. Discussion. Think critically about your creation\n",
        "> What went well?,\n",
        "> What is still missing? What could be improved?, Why?\n",
        "\n",
        "> 7. Contributions. Who did what?\n",
        "> You should write (just briefly) which group member was the main responsible for which elements of the assignment. (I want you guys to understand every part of the assignment, but usually there is someone who took lead role on certain portions of the work. That's what you should explain).\n",
        "> It is not OK simply to write \"All group members contributed equally\".\n",
        "\n",
        "> 8. Make sure that you use references when they're needed and follow academic standards.\n",
        "-->"
      ],
      "id": "526602e4-4079-46a0-8972-ee5abc637ac2"
    }
  ],
  "nbformat": 4,
  "nbformat_minor": 5,
  "metadata": {
    "kernelspec": {
      "name": "python3",
      "display_name": "Python 3 (ipykernel)",
      "language": "python"
    },
    "language_info": {
      "name": "python",
      "codemirror_mode": {
        "name": "ipython",
        "version": "3"
      },
      "file_extension": ".py",
      "mimetype": "text/x-python",
      "nbconvert_exporter": "python",
      "pygments_lexer": "ipython3",
      "version": "3.10.10"
    }
  }
}