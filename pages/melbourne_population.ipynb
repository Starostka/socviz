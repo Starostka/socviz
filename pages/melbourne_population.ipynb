{
  "cells": [
    {
      "cell_type": "markdown",
      "metadata": {},
      "source": [
        "# Demographics\n",
        "\n",
        "Final project \\| Population \\| Demographics forecasting\n",
        "\n",
        "Xinyi Liu  \n",
        "Benjamin Starostka  \n",
        "5/13/23"
      ],
      "id": "b4ec654d-4838-4f35-9599-8100e1e5f112"
    },
    {
      "cell_type": "code",
      "execution_count": 1,
      "metadata": {},
      "outputs": [],
      "source": [
        "import polars as pl\n",
        "import pandas as pd\n",
        "import numpy as np\n",
        "import matplotlib.pyplot as plt\n",
        "import matplotx\n",
        "\n",
        "plt.style.use(matplotx.styles.dufte)"
      ],
      "id": "62785b2c-8217-43e8-aded-5cbb6d81194d"
    },
    {
      "cell_type": "markdown",
      "metadata": {},
      "source": [
        "# Investigation & analysis\n",
        "\n",
        "## Population\n",
        "\n",
        "> WIP\n",
        "\n",
        "## Residentials\n",
        "\n",
        "> WIP\n",
        "\n",
        "## Jobs and employments\n",
        "\n",
        "> WIP\n",
        "\n",
        "-   TODO: Forecasted employment rates/job growth based on geographical\n",
        "    location\n",
        "-   TODO: Comparison of job categories\n",
        "-   TODO: Simple correlation analysis between forecast types\n",
        "-   TODO: Employment disparities across regions\n",
        "\n",
        "## Historic validation\n",
        "\n",
        "> WIP\n",
        "\n",
        "-   TODO: Validate forecast analysis by comparing with historical data.\n",
        "-   TODO: Validation by historic data is important to assess the\n",
        "    accuracy and reliability of the forecasts. Else our claims are hard\n",
        "    to trust.\n",
        "\n",
        "# Conclusion and takeaways\n",
        "\n",
        "> WIP\n",
        "\n",
        "# Additional resources\n",
        "\n",
        "> WIP\n",
        "\n",
        "# Contact and feedback\n",
        "\n",
        "> WIP\n",
        "\n",
        "\\<!– \\> 1. Motivation. \\> What is your dataset? \\> Why did you choose\n",
        "this/these particular dataset(s)? \\> What was your goal for the end\n",
        "user’s experience?\n",
        "\n",
        "> 1.  Basic stats. Let’s understand the dataset better Write about your\n",
        ">     choices in data cleaning and preprocessing Write a short section\n",
        ">     that discusses the dataset stats, containing key points/plots from\n",
        ">     your exploratory data analysis."
      ],
      "id": "d77ba9ec-9360-40a7-b356-df020f7e8778"
    }
  ],
  "nbformat": 4,
  "nbformat_minor": 5,
  "metadata": {
    "kernelspec": {
      "name": "python3",
      "display_name": "Python 3 (ipykernel)",
      "language": "python"
    },
    "language_info": {
      "name": "python",
      "codemirror_mode": {
        "name": "ipython",
        "version": "3"
      },
      "file_extension": ".py",
      "mimetype": "text/x-python",
      "nbconvert_exporter": "python",
      "pygments_lexer": "ipython3",
      "version": "3.10.10"
    }
  }
}